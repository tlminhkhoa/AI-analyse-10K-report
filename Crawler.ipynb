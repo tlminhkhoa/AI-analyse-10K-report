{
  "nbformat": 4,
  "nbformat_minor": 0,
  "metadata": {
    "colab": {
      "provenance": []
    },
    "kernelspec": {
      "name": "python3",
      "display_name": "Python 3"
    },
    "language_info": {
      "name": "python"
    }
  },
  "cells": [
    {
      "cell_type": "code",
      "execution_count": 1,
      "metadata": {
        "colab": {
          "base_uri": "https://localhost:8080/"
        },
        "id": "lAq8zzceknVy",
        "outputId": "fac9eb21-86b9-43b8-9b0e-29d34d0fea39"
      },
      "outputs": [
        {
          "output_type": "stream",
          "name": "stdout",
          "text": [
            "Mounted at /content/drive\n"
          ]
        }
      ],
      "source": [
        "from google.colab import drive\n",
        "drive.mount('/content/drive')"
      ]
    },
    {
      "cell_type": "code",
      "source": [
        "!pip install -U sec-edgar-downloader"
      ],
      "metadata": {
        "colab": {
          "base_uri": "https://localhost:8080/"
        },
        "id": "zNfih9KokqTf",
        "outputId": "4a4f9bfb-5116-4056-ee1e-c04da71f6c25"
      },
      "execution_count": null,
      "outputs": [
        {
          "output_type": "stream",
          "name": "stdout",
          "text": [
            "Looking in indexes: https://pypi.org/simple, https://us-python.pkg.dev/colab-wheels/public/simple/\n",
            "Collecting sec-edgar-downloader\n",
            "  Downloading sec_edgar_downloader-4.3.0-py3-none-any.whl (13 kB)\n",
            "Collecting Faker\n",
            "  Downloading Faker-15.3.4-py3-none-any.whl (1.6 MB)\n",
            "\u001b[K     |████████████████████████████████| 1.6 MB 4.9 MB/s \n",
            "\u001b[?25hRequirement already satisfied: requests in /usr/local/lib/python3.8/dist-packages (from sec-edgar-downloader) (2.23.0)\n",
            "Requirement already satisfied: bs4 in /usr/local/lib/python3.8/dist-packages (from sec-edgar-downloader) (0.0.1)\n",
            "Requirement already satisfied: lxml in /usr/local/lib/python3.8/dist-packages (from sec-edgar-downloader) (4.9.2)\n",
            "Requirement already satisfied: beautifulsoup4 in /usr/local/lib/python3.8/dist-packages (from bs4->sec-edgar-downloader) (4.6.3)\n",
            "Requirement already satisfied: python-dateutil>=2.4 in /usr/local/lib/python3.8/dist-packages (from Faker->sec-edgar-downloader) (2.8.2)\n",
            "Requirement already satisfied: six>=1.5 in /usr/local/lib/python3.8/dist-packages (from python-dateutil>=2.4->Faker->sec-edgar-downloader) (1.15.0)\n",
            "Requirement already satisfied: idna<3,>=2.5 in /usr/local/lib/python3.8/dist-packages (from requests->sec-edgar-downloader) (2.10)\n",
            "Requirement already satisfied: urllib3!=1.25.0,!=1.25.1,<1.26,>=1.21.1 in /usr/local/lib/python3.8/dist-packages (from requests->sec-edgar-downloader) (1.24.3)\n",
            "Requirement already satisfied: certifi>=2017.4.17 in /usr/local/lib/python3.8/dist-packages (from requests->sec-edgar-downloader) (2022.12.7)\n",
            "Requirement already satisfied: chardet<4,>=3.0.2 in /usr/local/lib/python3.8/dist-packages (from requests->sec-edgar-downloader) (3.0.4)\n",
            "Installing collected packages: Faker, sec-edgar-downloader\n",
            "Successfully installed Faker-15.3.4 sec-edgar-downloader-4.3.0\n"
          ]
        }
      ]
    },
    {
      "cell_type": "code",
      "source": [
        "import pandas as pd\n",
        "metaSP = pd.read_excel(\"/content/drive/MyDrive/10K/SP500.xlsx\")\n",
        "metaSP[\"Symbol\"]"
      ],
      "metadata": {
        "colab": {
          "base_uri": "https://localhost:8080/"
        },
        "id": "FnvaKVfJkxZE",
        "outputId": "b7698c11-edce-4ab0-fe45-b83dbb175f21"
      },
      "execution_count": null,
      "outputs": [
        {
          "output_type": "execute_result",
          "data": {
            "text/plain": [
              "0       MMM\n",
              "1       AOS\n",
              "2       ABT\n",
              "3      ABBV\n",
              "4      ABMD\n",
              "       ... \n",
              "498     YUM\n",
              "499    ZBRA\n",
              "500     ZBH\n",
              "501    ZION\n",
              "502     ZTS\n",
              "Name: Symbol, Length: 503, dtype: object"
            ]
          },
          "metadata": {},
          "execution_count": 3
        }
      ]
    },
    {
      "cell_type": "code",
      "source": [
        "from sec_edgar_downloader import Downloader\n",
        "for year in (\"2016\",\"2017\",\"2018\"):\n",
        "  dl = Downloader(\"/content/drive/MyDrive/10K/10K {}\".format(year))\n",
        "  for company in metaSP[\"Symbol\"]:\n",
        "    dl.get(\"10-K\", str(company), after=\"{}-01-01\".format(year), before = \"{}-12-31\".format(year))"
      ],
      "metadata": {
        "id": "BATV13hNkzss"
      },
      "execution_count": null,
      "outputs": []
    },
    {
      "cell_type": "code",
      "source": [],
      "metadata": {
        "id": "957vbCm3laNv"
      },
      "execution_count": null,
      "outputs": []
    },
    {
      "cell_type": "code",
      "source": [
        "# ------------------------------------------------"
      ],
      "metadata": {
        "id": "txGtW-QqlxN8"
      },
      "execution_count": null,
      "outputs": []
    },
    {
      "cell_type": "code",
      "source": [
        "!pip install yfinance"
      ],
      "metadata": {
        "colab": {
          "base_uri": "https://localhost:8080/"
        },
        "id": "qY0TTgq2cMoD",
        "outputId": "bac0e8ab-000e-413c-a59a-d451cb688a87"
      },
      "execution_count": null,
      "outputs": [
        {
          "output_type": "stream",
          "name": "stdout",
          "text": [
            "Looking in indexes: https://pypi.org/simple, https://us-python.pkg.dev/colab-wheels/public/simple/\n",
            "Collecting yfinance\n",
            "  Downloading yfinance-0.1.93-py2.py3-none-any.whl (31 kB)\n",
            "Requirement already satisfied: pandas>=1.3.0 in /usr/local/lib/python3.8/dist-packages (from yfinance) (1.3.5)\n",
            "Requirement already satisfied: appdirs>=1.4.4 in /usr/local/lib/python3.8/dist-packages (from yfinance) (1.4.4)\n",
            "Requirement already satisfied: multitasking>=0.0.7 in /usr/local/lib/python3.8/dist-packages (from yfinance) (0.0.11)\n",
            "Requirement already satisfied: numpy>=1.16.5 in /usr/local/lib/python3.8/dist-packages (from yfinance) (1.21.6)\n",
            "Collecting requests>=2.26\n",
            "  Downloading requests-2.28.1-py3-none-any.whl (62 kB)\n",
            "\u001b[K     |████████████████████████████████| 62 kB 1.1 MB/s \n",
            "\u001b[?25hCollecting cryptography>=3.3.2\n",
            "  Downloading cryptography-38.0.4-cp36-abi3-manylinux_2_24_x86_64.whl (4.0 MB)\n",
            "\u001b[K     |████████████████████████████████| 4.0 MB 6.9 MB/s \n",
            "\u001b[?25hRequirement already satisfied: lxml>=4.9.1 in /usr/local/lib/python3.8/dist-packages (from yfinance) (4.9.2)\n",
            "Requirement already satisfied: cffi>=1.12 in /usr/local/lib/python3.8/dist-packages (from cryptography>=3.3.2->yfinance) (1.15.1)\n",
            "Requirement already satisfied: pycparser in /usr/local/lib/python3.8/dist-packages (from cffi>=1.12->cryptography>=3.3.2->yfinance) (2.21)\n",
            "Requirement already satisfied: pytz>=2017.3 in /usr/local/lib/python3.8/dist-packages (from pandas>=1.3.0->yfinance) (2022.6)\n",
            "Requirement already satisfied: python-dateutil>=2.7.3 in /usr/local/lib/python3.8/dist-packages (from pandas>=1.3.0->yfinance) (2.8.2)\n",
            "Requirement already satisfied: six>=1.5 in /usr/local/lib/python3.8/dist-packages (from python-dateutil>=2.7.3->pandas>=1.3.0->yfinance) (1.15.0)\n",
            "Requirement already satisfied: urllib3<1.27,>=1.21.1 in /usr/local/lib/python3.8/dist-packages (from requests>=2.26->yfinance) (1.24.3)\n",
            "Requirement already satisfied: certifi>=2017.4.17 in /usr/local/lib/python3.8/dist-packages (from requests>=2.26->yfinance) (2022.12.7)\n",
            "Requirement already satisfied: idna<4,>=2.5 in /usr/local/lib/python3.8/dist-packages (from requests>=2.26->yfinance) (2.10)\n",
            "Requirement already satisfied: charset-normalizer<3,>=2 in /usr/local/lib/python3.8/dist-packages (from requests>=2.26->yfinance) (2.1.1)\n",
            "Installing collected packages: requests, cryptography, yfinance\n",
            "  Attempting uninstall: requests\n",
            "    Found existing installation: requests 2.23.0\n",
            "    Uninstalling requests-2.23.0:\n",
            "      Successfully uninstalled requests-2.23.0\n",
            "Successfully installed cryptography-38.0.4 requests-2.28.1 yfinance-0.1.93\n"
          ]
        }
      ]
    },
    {
      "cell_type": "code",
      "source": [
        "import os\n",
        "import pandas as pd\n",
        "import yfinance as yf\n",
        "\n",
        "for year in (\"2016\",\"2017\",\"2018\"):\n",
        "  processed =  os.listdir(\"/content/drive/MyDrive/10K/10K {}/10K Processed\".format(year))\n",
        "  processed = [el.replace(\".json\",\"\") for el in processed]\n",
        "  DiffDF = pd.DataFrame()\n",
        "\n",
        "  for ticker in processed: \n",
        "    msft = yf.Ticker(ticker)\n",
        "    # get historical market data\n",
        "    hist = msft.history(start = \"{}-12-01\".format(year),end = \"{}-01-31\".format(year),frequency = \"1w\")\n",
        "    if len(hist) == 0: continue\n",
        "    hist = hist.reset_index()\n",
        "    start = hist.iloc[0]\n",
        "    end = hist.iloc[-1]\n",
        "    diff = end - start\n",
        "    tempDf = pd.DataFrame()\n",
        "    tempDf = tempDf.append(diff,ignore_index=True)\n",
        "    tempDf[\"StartDate\"] = hist.iloc[0][\"Date\"]\n",
        "    tempDf[\"EndDate\"] = hist.iloc[-1][\"Date\"]\n",
        "    tempDf[\"Ticker\"] = ticker\n",
        "\n",
        "    DiffDF =  DiffDF.append(tempDf)\n",
        "    DiffDF.to_csv(\"/content/drive/MyDrive/10K/10K {}/DiffPriceMonth.csv\".format(year), index = False)\n",
        "  "
      ],
      "metadata": {
        "colab": {
          "base_uri": "https://localhost:8080/"
        },
        "id": "h7Px46O9mmy9",
        "outputId": "a8dc69ca-e4cc-49b8-a209-d3ec5195230e"
      },
      "execution_count": null,
      "outputs": [
        {
          "output_type": "stream",
          "name": "stdout",
          "text": [
            "- DOW: Data doesn't exist for startDate = 1480568400, endDate = 1485838800\n",
            "- FOX: Data doesn't exist for startDate = 1480568400, endDate = 1485838800\n"
          ]
        }
      ]
    },
    {
      "cell_type": "code",
      "source": [
        "DiffDF"
      ],
      "metadata": {
        "colab": {
          "base_uri": "https://localhost:8080/",
          "height": 659
        },
        "id": "7YpDaKXEx0RK",
        "outputId": "cf23ab60-0d92-42d2-a8ef-ae392b014a7b"
      },
      "execution_count": null,
      "outputs": [
        {
          "output_type": "execute_result",
          "data": {
            "text/plain": [
              "      Date      Open      High       Low     Close     Volume  Dividends  \\\n",
              "0  60 days  2.725303  2.185823  2.427658  2.064903 -8881100.0        0.0   \n",
              "0  60 days  2.233870  2.139817  2.202523  1.967377  -890500.0        0.0   \n",
              "0  60 days  2.971806  5.080319  5.592041  5.315765   167700.0        0.0   \n",
              "0  60 days  4.526183  2.085675  2.954700  2.100159 -2967362.0        0.0   \n",
              "0  60 days  4.023252  3.286927  3.628775  3.041199  -858338.0        0.0   \n",
              "..     ...       ...       ...       ...       ...        ...        ...   \n",
              "0  60 days  4.996857  4.473354  3.264957  3.133644   118200.0        0.0   \n",
              "0  60 days  3.509998  3.169998  4.890003  5.779999 -1473500.0        0.0   \n",
              "0  60 days  0.714357  0.779792  0.643462  0.921581 -1820517.0        0.0   \n",
              "0  60 days  2.438296  2.463694  3.191797  3.098667 -5664000.0        0.0   \n",
              "0  60 days  0.166329  0.290611  0.300436  0.021137  -834100.0        0.0   \n",
              "\n",
              "    Stock Splits                 StartDate                   EndDate Ticker  \n",
              "0            0.0 2016-12-01 00:00:00-05:00 2017-01-30 00:00:00-05:00   SCHW  \n",
              "0            0.0 2016-12-01 00:00:00-05:00 2017-01-30 00:00:00-05:00      D  \n",
              "0            0.0 2016-12-01 00:00:00-05:00 2017-01-30 00:00:00-05:00    DPZ  \n",
              "0            0.0 2016-12-01 00:00:00-05:00 2017-01-30 00:00:00-05:00    DOV  \n",
              "0            0.0 2016-12-01 00:00:00-05:00 2017-01-30 00:00:00-05:00    DTE  \n",
              "..           ...                       ...                       ...    ...  \n",
              "0            0.0 2016-12-01 00:00:00-05:00 2017-01-30 00:00:00-05:00    DGX  \n",
              "0            0.0 2016-12-01 00:00:00-05:00 2017-01-30 00:00:00-05:00   SNPS  \n",
              "0            0.0 2016-12-01 00:00:00-05:00 2017-01-30 00:00:00-05:00    RTX  \n",
              "0            0.0 2016-12-01 00:00:00-05:00 2017-01-30 00:00:00-05:00   INTC  \n",
              "0            0.0 2016-12-01 00:00:00-05:00 2017-01-30 00:00:00-05:00     VZ  \n",
              "\n",
              "[222 rows x 11 columns]"
            ],
            "text/html": [
              "\n",
              "  <div id=\"df-5c134a3d-5f24-4b15-bc7a-39cbe74b51ed\">\n",
              "    <div class=\"colab-df-container\">\n",
              "      <div>\n",
              "<style scoped>\n",
              "    .dataframe tbody tr th:only-of-type {\n",
              "        vertical-align: middle;\n",
              "    }\n",
              "\n",
              "    .dataframe tbody tr th {\n",
              "        vertical-align: top;\n",
              "    }\n",
              "\n",
              "    .dataframe thead th {\n",
              "        text-align: right;\n",
              "    }\n",
              "</style>\n",
              "<table border=\"1\" class=\"dataframe\">\n",
              "  <thead>\n",
              "    <tr style=\"text-align: right;\">\n",
              "      <th></th>\n",
              "      <th>Date</th>\n",
              "      <th>Open</th>\n",
              "      <th>High</th>\n",
              "      <th>Low</th>\n",
              "      <th>Close</th>\n",
              "      <th>Volume</th>\n",
              "      <th>Dividends</th>\n",
              "      <th>Stock Splits</th>\n",
              "      <th>StartDate</th>\n",
              "      <th>EndDate</th>\n",
              "      <th>Ticker</th>\n",
              "    </tr>\n",
              "  </thead>\n",
              "  <tbody>\n",
              "    <tr>\n",
              "      <th>0</th>\n",
              "      <td>60 days</td>\n",
              "      <td>2.725303</td>\n",
              "      <td>2.185823</td>\n",
              "      <td>2.427658</td>\n",
              "      <td>2.064903</td>\n",
              "      <td>-8881100.0</td>\n",
              "      <td>0.0</td>\n",
              "      <td>0.0</td>\n",
              "      <td>2016-12-01 00:00:00-05:00</td>\n",
              "      <td>2017-01-30 00:00:00-05:00</td>\n",
              "      <td>SCHW</td>\n",
              "    </tr>\n",
              "    <tr>\n",
              "      <th>0</th>\n",
              "      <td>60 days</td>\n",
              "      <td>2.233870</td>\n",
              "      <td>2.139817</td>\n",
              "      <td>2.202523</td>\n",
              "      <td>1.967377</td>\n",
              "      <td>-890500.0</td>\n",
              "      <td>0.0</td>\n",
              "      <td>0.0</td>\n",
              "      <td>2016-12-01 00:00:00-05:00</td>\n",
              "      <td>2017-01-30 00:00:00-05:00</td>\n",
              "      <td>D</td>\n",
              "    </tr>\n",
              "    <tr>\n",
              "      <th>0</th>\n",
              "      <td>60 days</td>\n",
              "      <td>2.971806</td>\n",
              "      <td>5.080319</td>\n",
              "      <td>5.592041</td>\n",
              "      <td>5.315765</td>\n",
              "      <td>167700.0</td>\n",
              "      <td>0.0</td>\n",
              "      <td>0.0</td>\n",
              "      <td>2016-12-01 00:00:00-05:00</td>\n",
              "      <td>2017-01-30 00:00:00-05:00</td>\n",
              "      <td>DPZ</td>\n",
              "    </tr>\n",
              "    <tr>\n",
              "      <th>0</th>\n",
              "      <td>60 days</td>\n",
              "      <td>4.526183</td>\n",
              "      <td>2.085675</td>\n",
              "      <td>2.954700</td>\n",
              "      <td>2.100159</td>\n",
              "      <td>-2967362.0</td>\n",
              "      <td>0.0</td>\n",
              "      <td>0.0</td>\n",
              "      <td>2016-12-01 00:00:00-05:00</td>\n",
              "      <td>2017-01-30 00:00:00-05:00</td>\n",
              "      <td>DOV</td>\n",
              "    </tr>\n",
              "    <tr>\n",
              "      <th>0</th>\n",
              "      <td>60 days</td>\n",
              "      <td>4.023252</td>\n",
              "      <td>3.286927</td>\n",
              "      <td>3.628775</td>\n",
              "      <td>3.041199</td>\n",
              "      <td>-858338.0</td>\n",
              "      <td>0.0</td>\n",
              "      <td>0.0</td>\n",
              "      <td>2016-12-01 00:00:00-05:00</td>\n",
              "      <td>2017-01-30 00:00:00-05:00</td>\n",
              "      <td>DTE</td>\n",
              "    </tr>\n",
              "    <tr>\n",
              "      <th>...</th>\n",
              "      <td>...</td>\n",
              "      <td>...</td>\n",
              "      <td>...</td>\n",
              "      <td>...</td>\n",
              "      <td>...</td>\n",
              "      <td>...</td>\n",
              "      <td>...</td>\n",
              "      <td>...</td>\n",
              "      <td>...</td>\n",
              "      <td>...</td>\n",
              "      <td>...</td>\n",
              "    </tr>\n",
              "    <tr>\n",
              "      <th>0</th>\n",
              "      <td>60 days</td>\n",
              "      <td>4.996857</td>\n",
              "      <td>4.473354</td>\n",
              "      <td>3.264957</td>\n",
              "      <td>3.133644</td>\n",
              "      <td>118200.0</td>\n",
              "      <td>0.0</td>\n",
              "      <td>0.0</td>\n",
              "      <td>2016-12-01 00:00:00-05:00</td>\n",
              "      <td>2017-01-30 00:00:00-05:00</td>\n",
              "      <td>DGX</td>\n",
              "    </tr>\n",
              "    <tr>\n",
              "      <th>0</th>\n",
              "      <td>60 days</td>\n",
              "      <td>3.509998</td>\n",
              "      <td>3.169998</td>\n",
              "      <td>4.890003</td>\n",
              "      <td>5.779999</td>\n",
              "      <td>-1473500.0</td>\n",
              "      <td>0.0</td>\n",
              "      <td>0.0</td>\n",
              "      <td>2016-12-01 00:00:00-05:00</td>\n",
              "      <td>2017-01-30 00:00:00-05:00</td>\n",
              "      <td>SNPS</td>\n",
              "    </tr>\n",
              "    <tr>\n",
              "      <th>0</th>\n",
              "      <td>60 days</td>\n",
              "      <td>0.714357</td>\n",
              "      <td>0.779792</td>\n",
              "      <td>0.643462</td>\n",
              "      <td>0.921581</td>\n",
              "      <td>-1820517.0</td>\n",
              "      <td>0.0</td>\n",
              "      <td>0.0</td>\n",
              "      <td>2016-12-01 00:00:00-05:00</td>\n",
              "      <td>2017-01-30 00:00:00-05:00</td>\n",
              "      <td>RTX</td>\n",
              "    </tr>\n",
              "    <tr>\n",
              "      <th>0</th>\n",
              "      <td>60 days</td>\n",
              "      <td>2.438296</td>\n",
              "      <td>2.463694</td>\n",
              "      <td>3.191797</td>\n",
              "      <td>3.098667</td>\n",
              "      <td>-5664000.0</td>\n",
              "      <td>0.0</td>\n",
              "      <td>0.0</td>\n",
              "      <td>2016-12-01 00:00:00-05:00</td>\n",
              "      <td>2017-01-30 00:00:00-05:00</td>\n",
              "      <td>INTC</td>\n",
              "    </tr>\n",
              "    <tr>\n",
              "      <th>0</th>\n",
              "      <td>60 days</td>\n",
              "      <td>0.166329</td>\n",
              "      <td>0.290611</td>\n",
              "      <td>0.300436</td>\n",
              "      <td>0.021137</td>\n",
              "      <td>-834100.0</td>\n",
              "      <td>0.0</td>\n",
              "      <td>0.0</td>\n",
              "      <td>2016-12-01 00:00:00-05:00</td>\n",
              "      <td>2017-01-30 00:00:00-05:00</td>\n",
              "      <td>VZ</td>\n",
              "    </tr>\n",
              "  </tbody>\n",
              "</table>\n",
              "<p>222 rows × 11 columns</p>\n",
              "</div>\n",
              "      <button class=\"colab-df-convert\" onclick=\"convertToInteractive('df-5c134a3d-5f24-4b15-bc7a-39cbe74b51ed')\"\n",
              "              title=\"Convert this dataframe to an interactive table.\"\n",
              "              style=\"display:none;\">\n",
              "        \n",
              "  <svg xmlns=\"http://www.w3.org/2000/svg\" height=\"24px\"viewBox=\"0 0 24 24\"\n",
              "       width=\"24px\">\n",
              "    <path d=\"M0 0h24v24H0V0z\" fill=\"none\"/>\n",
              "    <path d=\"M18.56 5.44l.94 2.06.94-2.06 2.06-.94-2.06-.94-.94-2.06-.94 2.06-2.06.94zm-11 1L8.5 8.5l.94-2.06 2.06-.94-2.06-.94L8.5 2.5l-.94 2.06-2.06.94zm10 10l.94 2.06.94-2.06 2.06-.94-2.06-.94-.94-2.06-.94 2.06-2.06.94z\"/><path d=\"M17.41 7.96l-1.37-1.37c-.4-.4-.92-.59-1.43-.59-.52 0-1.04.2-1.43.59L10.3 9.45l-7.72 7.72c-.78.78-.78 2.05 0 2.83L4 21.41c.39.39.9.59 1.41.59.51 0 1.02-.2 1.41-.59l7.78-7.78 2.81-2.81c.8-.78.8-2.07 0-2.86zM5.41 20L4 18.59l7.72-7.72 1.47 1.35L5.41 20z\"/>\n",
              "  </svg>\n",
              "      </button>\n",
              "      \n",
              "  <style>\n",
              "    .colab-df-container {\n",
              "      display:flex;\n",
              "      flex-wrap:wrap;\n",
              "      gap: 12px;\n",
              "    }\n",
              "\n",
              "    .colab-df-convert {\n",
              "      background-color: #E8F0FE;\n",
              "      border: none;\n",
              "      border-radius: 50%;\n",
              "      cursor: pointer;\n",
              "      display: none;\n",
              "      fill: #1967D2;\n",
              "      height: 32px;\n",
              "      padding: 0 0 0 0;\n",
              "      width: 32px;\n",
              "    }\n",
              "\n",
              "    .colab-df-convert:hover {\n",
              "      background-color: #E2EBFA;\n",
              "      box-shadow: 0px 1px 2px rgba(60, 64, 67, 0.3), 0px 1px 3px 1px rgba(60, 64, 67, 0.15);\n",
              "      fill: #174EA6;\n",
              "    }\n",
              "\n",
              "    [theme=dark] .colab-df-convert {\n",
              "      background-color: #3B4455;\n",
              "      fill: #D2E3FC;\n",
              "    }\n",
              "\n",
              "    [theme=dark] .colab-df-convert:hover {\n",
              "      background-color: #434B5C;\n",
              "      box-shadow: 0px 1px 3px 1px rgba(0, 0, 0, 0.15);\n",
              "      filter: drop-shadow(0px 1px 2px rgba(0, 0, 0, 0.3));\n",
              "      fill: #FFFFFF;\n",
              "    }\n",
              "  </style>\n",
              "\n",
              "      <script>\n",
              "        const buttonEl =\n",
              "          document.querySelector('#df-5c134a3d-5f24-4b15-bc7a-39cbe74b51ed button.colab-df-convert');\n",
              "        buttonEl.style.display =\n",
              "          google.colab.kernel.accessAllowed ? 'block' : 'none';\n",
              "\n",
              "        async function convertToInteractive(key) {\n",
              "          const element = document.querySelector('#df-5c134a3d-5f24-4b15-bc7a-39cbe74b51ed');\n",
              "          const dataTable =\n",
              "            await google.colab.kernel.invokeFunction('convertToInteractive',\n",
              "                                                     [key], {});\n",
              "          if (!dataTable) return;\n",
              "\n",
              "          const docLinkHtml = 'Like what you see? Visit the ' +\n",
              "            '<a target=\"_blank\" href=https://colab.research.google.com/notebooks/data_table.ipynb>data table notebook</a>'\n",
              "            + ' to learn more about interactive tables.';\n",
              "          element.innerHTML = '';\n",
              "          dataTable['output_type'] = 'display_data';\n",
              "          await google.colab.output.renderOutput(dataTable, element);\n",
              "          const docLink = document.createElement('div');\n",
              "          docLink.innerHTML = docLinkHtml;\n",
              "          element.appendChild(docLink);\n",
              "        }\n",
              "      </script>\n",
              "    </div>\n",
              "  </div>\n",
              "  "
            ]
          },
          "metadata": {},
          "execution_count": 12
        }
      ]
    },
    {
      "cell_type": "code",
      "source": [],
      "metadata": {
        "id": "01rw-pICoBV1"
      },
      "execution_count": null,
      "outputs": []
    }
  ]
}